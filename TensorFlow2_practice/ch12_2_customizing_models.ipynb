{
 "nbformat": 4,
 "nbformat_minor": 2,
 "metadata": {
  "language_info": {
   "name": "python",
   "codemirror_mode": {
    "name": "ipython",
    "version": 3
   },
   "version": "3.7.4-final"
  },
  "orig_nbformat": 2,
  "file_extension": ".py",
  "mimetype": "text/x-python",
  "name": "python",
  "npconvert_exporter": "python",
  "pygments_lexer": "ipython3",
  "version": 3,
  "kernelspec": {
   "name": "python37464bit2ae39281a9e44a899ce84a46cd7f36a9",
   "display_name": "Python 3.7.4 64-bit"
  }
 },
 "cells": [
  {
   "source": [
    "# custom loss function\n",
    "# eg. implementing Huber loss into keras regression model\n",
    "# (can use tf.keras.losses.Huber but pretend it doesn't exist)\n",
    "import tensorflow as tf\n",
    "\n",
    "def huber_fn(y_true, y_pred):\n",
    "    error = y_true - y_pred\n",
    "    is_small_error = tf.abs(error) < 1 # bool-type tensor\n",
    "    squared_loss = tf.square(error) / 2 # output1\n",
    "    linearloss = tf.abs(error) - 0.5 # output2\n",
    "    return tf.where(is_small_error, squared_loss, linear_loss) # return output1 if true, output2 if false\n",
    "\n",
    "# now can use this loss function when compiling a keras model\n",
    "# model.compile(loss= huber_fn, optimizer=\"nadam\")\n",
    "# model.fit(X_tran, y_train)"
   ],
   "cell_type": "code",
   "outputs": [],
   "metadata": {},
   "execution_count": 3
  },
  {
   "cell_type": "code",
   "execution_count": null,
   "metadata": {},
   "outputs": [],
   "source": []
  }
 ]
}
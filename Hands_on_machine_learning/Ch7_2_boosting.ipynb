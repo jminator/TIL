{
 "nbformat": 4,
 "nbformat_minor": 2,
 "metadata": {
  "language_info": {
   "name": "python",
   "codemirror_mode": {
    "name": "ipython",
    "version": 3
   },
   "version": "3.7.4-final"
  },
  "orig_nbformat": 2,
  "file_extension": ".py",
  "mimetype": "text/x-python",
  "name": "python",
  "npconvert_exporter": "python",
  "pygments_lexer": "ipython3",
  "version": 3,
  "kernelspec": {
   "name": "python37464bit2ae39281a9e44a899ce84a46cd7f36a9",
   "display_name": "Python 3.7.4 64-bit"
  }
 },
 "cells": [
  {
   "cell_type": "markdown",
   "execution_count": null,
   "metadata": {},
   "outputs": [],
   "source": [
    "# Boosting\n",
    "* refers to any ensemble method that can combine several weak learners into a strong learner.\n",
    "* Train predictors sequentially, each trying to correct its predecessor.\n",
    "* AdaBoost(Adaptive boosting) and gradient boosting are the most popular."
   ]
  },
  {
   "cell_type": "markdown",
   "execution_count": null,
   "metadata": {},
   "outputs": [],
   "source": [
    "## AdaBoost\n",
    "* The algorithm uses a sequence of classifiers that focuses on misclassified predictions of previous classifiers.\n",
    "* First trains a base classifier such as a decision tree, make predictions on the training set, and then increaes  \n",
    "the relative weight of misclassified instances.\n",
    "* The updated weights are then used to train the second classifier and so on.\n",
    "* This sequential learning technique looks similar to GD, except that instead of adjusting single predictor's  \n",
    "parameter to minimize a cost function, it adds predictors to the ensemble, gradually making the model better.\n",
    "* Drawback: the process cannot be parallelized since each predictor can only be trained after the previous predictor  \n",
    "has been trained and evaluated.\n",
    "* See pg201 for the mathematical details."
   ]
  },
  {
   "cell_type": "code",
   "execution_count": 12,
   "metadata": {},
   "outputs": [
    {
     "data": {
      "text/plain": "AdaBoostClassifier(algorithm='SAMME.R',\n                   base_estimator=DecisionTreeClassifier(ccp_alpha=0.0,\n                                                         class_weight=None,\n                                                         criterion='gini',\n                                                         max_depth=1,\n                                                         max_features=None,\n                                                         max_leaf_nodes=None,\n                                                         min_impurity_decrease=0.0,\n                                                         min_impurity_split=None,\n                                                         min_samples_leaf=1,\n                                                         min_samples_split=2,\n                                                         min_weight_fraction_leaf=0.0,\n                                                         presort='deprecated',\n                                                         random_state=None,\n                                                         splitter='best'),\n                   learning_rate=0.5, n_estimators=200, random_state=None)"
     },
     "execution_count": 12,
     "metadata": {},
     "output_type": "execute_result"
    }
   ],
   "source": [
    "from sklearn.ensemble import AdaBoostClassifier\n",
    "from sklearn.tree import DecisionTreeClassifier\n",
    "from sklearn.datasets import load_iris\n",
    "from sklearn.model_selection import train_test_split\n",
    "iris = load_iris()\n",
    "X = iris.data[:, 2:] # petal length and width\n",
    "y = iris.target\n",
    "\n",
    "X_train, X_val, y_train, y_val = train_test_split(X, y, test_size = 0.2)\n",
    "ada_clf = AdaBoostClassifier(\n",
    "    DecisionTreeClassifier(max_depth=1), n_estimators=200,\n",
    "    algorithm=\"SAMME.R\", learning_rate=0.5) \n",
    "    # SAMME.R: relies on class probabilities rather than predictions. Generally performs better.\n",
    "ada_clf.fit(X_train, y_train)\n",
    "# If the ensemble is overfitting, you can try reducing the number of estimators."
   ]
  },
  {
   "cell_type": "markdown",
   "execution_count": null,
   "metadata": {},
   "outputs": [],
   "source": [
    "## Gradient boosting\n",
    "* Like Ada, works by sequentially adding predictors to an ensemble, each one correcting its predecessor.\n",
    "* Instead of adjusting the weights at every iteration, it tries to fit the new predictor to the  \n",
    "'residual errors' made by the previous predictor.\n"
   ]
  },
  {
   "cell_type": "code",
   "execution_count": 9,
   "metadata": {},
   "outputs": [],
   "source": [
    "from sklearn.tree import DecisionTreeRegressor\n",
    "tree_reg1 = DecisionTreeRegressor(max_depth= 2)\n",
    "tree_reg1.fit(X, y)\n",
    "\n",
    "y2 = y- tree_reg1.predict(X) # the 1st residual\n",
    "tree_reg2 = DecisionTreeRegressor(max_depth= 2)\n",
    "tree_reg2.fit(X, y2)\n",
    "\n",
    "y3 = y2 - tree_reg2.predict(X) # the 2nd residual\n",
    "tree_reg3 = DecisionTreeRegressor(max_depth= 2)\n",
    "tree_reg3.fit(X, y3)\n",
    "\n",
    "y_pred = sum(tree.predict(X) for tree in (tree_reg1, tree_reg2, tree_reg3))\n"
   ]
  },
  {
   "cell_type": "code",
   "execution_count": 10,
   "metadata": {},
   "outputs": [
    {
     "data": {
      "text/plain": "GradientBoostingRegressor(alpha=0.9, ccp_alpha=0.0, criterion='friedman_mse',\n                          init=None, learning_rate=1.0, loss='ls', max_depth=2,\n                          max_features=None, max_leaf_nodes=None,\n                          min_impurity_decrease=0.0, min_impurity_split=None,\n                          min_samples_leaf=1, min_samples_split=2,\n                          min_weight_fraction_leaf=0.0, n_estimators=3,\n                          n_iter_no_change=None, presort='deprecated',\n                          random_state=None, subsample=1.0, tol=0.0001,\n                          validation_fraction=0.1, verbose=0, warm_start=False)"
     },
     "execution_count": 10,
     "metadata": {},
     "output_type": "execute_result"
    }
   ],
   "source": [
    "# A simpler way:\n",
    "from sklearn.ensemble import GradientBoostingRegressor\n",
    "gbrt = GradientBoostingRegressor(max_depth= 2, n_estimators= 3, learning_rate=1.0)\n",
    "gbrt.fit(X, y)\n",
    "# if you set the learning rate low, you would need more trees to fit the training set,\n",
    "# but the predictions will usually generalize better.\n"
   ]
  },
  {
   "cell_type": "markdown",
   "execution_count": null,
   "metadata": {},
   "outputs": [],
   "source": [
    "### Implementing early stopping\n",
    "* Implement early stopping to find the optimal number of trees."
   ]
  },
  {
   "cell_type": "code",
   "execution_count": 14,
   "metadata": {},
   "outputs": [
    {
     "data": {
      "text/plain": "GradientBoostingRegressor(alpha=0.9, ccp_alpha=0.0, criterion='friedman_mse',\n                          init=None, learning_rate=0.1, loss='ls', max_depth=2,\n                          max_features=None, max_leaf_nodes=None,\n                          min_impurity_decrease=0.0, min_impurity_split=None,\n                          min_samples_leaf=1, min_samples_split=2,\n                          min_weight_fraction_leaf=0.0, n_estimators=40,\n                          n_iter_no_change=None, presort='deprecated',\n                          random_state=None, subsample=1.0, tol=0.0001,\n                          validation_fraction=0.1, verbose=0, warm_start=False)"
     },
     "execution_count": 14,
     "metadata": {},
     "output_type": "execute_result"
    }
   ],
   "source": [
    "# Use staged_predict() which returns an iterator over the predictions made by the ensemble at\n",
    "# each stage of training (with one tree, two trees, etc)\n",
    "import numpy as np\n",
    "from sklearn.metrics import mean_squared_error\n",
    "\n",
    "gbrt = GradientBoostingRegressor(max_depth= 2, n_estimators= 120)\n",
    "gbrt.fit(X_train, y_train)\n",
    "\n",
    "errors = [mean_squared_error(y_val, y_pred)\n",
    "          for y_pred in gbrt.staged_predict(X_val)]\n",
    "bst_n_estimators = np.argmin(errors) + 1\n",
    "\n",
    "gbrt_best = GradientBoostingRegressor(max_depth=2, n_estimators=bst_n_estimators)\n",
    "gbrt_best.fit(X_train, y_train)"
   ]
  },
  {
   "cell_type": "code",
   "execution_count": 16,
   "metadata": {},
   "outputs": [],
   "source": [
    "# Or actually stop early by using warm_start=True to allow incremental training.\n",
    "gbrt = GradientBoostingRegressor(max_depth= 2, warm_start=True)\n",
    "\n",
    "min_val_error = float(\"inf\")\n",
    "error_going_up = 0\n",
    "for n_estimators in range(1, 120):\n",
    "    gbrt.n_estimators = n_estimators\n",
    "    gbrt.fit(X_train, y_train)\n",
    "    y_pred = gbrt.predict(X_val)\n",
    "    val_error = mean_squared_error(y_val, y_pred)\n",
    "    if val_error < min_val_error:\n",
    "        min_val_error = val_error\n",
    "        error_going_up = 0\n",
    "    else:\n",
    "        error_going_up = error_going_up + 1 # error_going_up += 1\n",
    "        if error_going_up ==5 :\n",
    "            break # early stopping\n",
    "# GradientBoostingRegressor also supports a subsample hyperparameter.\n",
    "# If subsample = 0.25, then each tree is trained on 25% of the training instances,\n",
    "# selected randomly. This technique trades a higher bias for a lower variance and\n",
    "# the technique is called 'stochastic gradient boosting'"
   ]
  },
  {
   "cell_type": "code",
   "execution_count": 17,
   "metadata": {},
   "outputs": [
    {
     "name": "stdout",
     "output_type": "stream",
     "text": "[14:58:37] WARNING: C:/Jenkins/workspace/xgboost-win64_release_0.90/src/objective/regression_obj.cu:152: reg:linear is now deprecated in favor of reg:squarederror.\n[14:58:37] WARNING: C:/Jenkins/workspace/xgboost-win64_release_0.90/src/objective/regression_obj.cu:152: reg:linear is now deprecated in favor of reg:squarederror.\n[0]\tvalidation_0-rmse:0.964838\nWill train until validation_0-rmse hasn't improved in 2 rounds.\n[1]\tvalidation_0-rmse:0.882443\n[2]\tvalidation_0-rmse:0.808653\n[3]\tvalidation_0-rmse:0.742666\n[4]\tvalidation_0-rmse:0.683755\n[5]\tvalidation_0-rmse:0.628232\n[6]\tvalidation_0-rmse:0.577881\n[7]\tvalidation_0-rmse:0.531613\n[8]\tvalidation_0-rmse:0.494354\n[9]\tvalidation_0-rmse:0.459171\n[10]\tvalidation_0-rmse:0.425955\n[11]\tvalidation_0-rmse:0.396254\n[12]\tvalidation_0-rmse:0.373307\n[13]\tvalidation_0-rmse:0.353204\n[14]\tvalidation_0-rmse:0.335701\n[15]\tvalidation_0-rmse:0.319195\n[16]\tvalidation_0-rmse:0.306033\n[17]\tvalidation_0-rmse:0.294694\n[18]\tvalidation_0-rmse:0.285129\n[19]\tvalidation_0-rmse:0.277218\n[20]\tvalidation_0-rmse:0.270415\n[21]\tvalidation_0-rmse:0.264431\n[22]\tvalidation_0-rmse:0.259315\n[23]\tvalidation_0-rmse:0.254944\n[24]\tvalidation_0-rmse:0.251211\n[25]\tvalidation_0-rmse:0.248025\n[26]\tvalidation_0-rmse:0.245305\n[27]\tvalidation_0-rmse:0.242978\n[28]\tvalidation_0-rmse:0.240992\n[29]\tvalidation_0-rmse:0.239293\n[30]\tvalidation_0-rmse:0.237841\n[31]\tvalidation_0-rmse:0.236596\n[32]\tvalidation_0-rmse:0.235532\n[33]\tvalidation_0-rmse:0.234616\n[34]\tvalidation_0-rmse:0.233833\n[35]\tvalidation_0-rmse:0.233335\n[36]\tvalidation_0-rmse:0.232761\n[37]\tvalidation_0-rmse:0.232271\n[38]\tvalidation_0-rmse:0.232033\n[39]\tvalidation_0-rmse:0.231401\n[40]\tvalidation_0-rmse:0.230875\n[41]\tvalidation_0-rmse:0.231425\n[42]\tvalidation_0-rmse:0.231959\nStopping. Best iteration:\n[40]\tvalidation_0-rmse:0.230875\n\n"
    }
   ],
   "source": [
    "# It is worth noting that an optimized implementation of gradient boosting is available.\n",
    "# XGboost stands for 'extreme gb'. It is extremely fast, scalable, and portable.\n",
    "import xgboost\n",
    "xgb_reg = xgboost.XGBRegressor()\n",
    "xgb_reg.fit(X_train, y_train)\n",
    "y_pred = xgb_reg.predict(X_val)\n",
    "# It can automatically take care of early stopping\n",
    "xgb_reg.fit(X_train, y_train, eval_set=[(X_val, y_val)], early_stopping_rounds= 2)\n",
    "y_pred = xgb_reg.predict(X_val)"
   ]
  },
  {
   "cell_type": "markdown",
   "execution_count": null,
   "metadata": {},
   "outputs": [],
   "source": [
    "## Stacking\n",
    "* Short for 'stacked generalization'\n",
    "* Instead of using trivial functions such as hard voting to aggregate the predictions of  \n",
    "all predictors in an ensemble, we can try to train a model to perform this aggregation.\n",
    "* When initial predictors come up with their predictions, a 'blender' uses those predictions  \n",
    "as inputs and makes the final prediction.\n",
    "* To train a blender, use a hold-out set.  \n",
    "    1) Training set is split into two subsets. The 1st subset is used to train the predictors  \n",
    "    in the first layer. (Let's assume that there are 3 predictors)  \n",
    "    2) the 1st layer predictors then make predictions on the second(held-out) set.  \n",
    "    This ensures that the predictions are 'clean'.\n",
    "    3) So for each instance in the hold-out set, there are three predicted values.  \n",
    "     (made by each of three predictors in the 1st layer)  \n",
    "    4) This can create a new training set using these predicted values as input features, \n",
    "    and keeping the target values. The blender then train on this new training set.\n",
    "* Can apply a similar process for multilayer stacking ensemble. For 3 layer ensemble (2 predictor, 1 blender)  \n",
    "need to divide the training set into 3 subsets instead of 2.\n",
    "* sklearn doesn't support stacking directly."
   ]
  },
  {
   "cell_type": "code",
   "execution_count": null,
   "metadata": {},
   "outputs": [],
   "source": []
  }
 ]
}
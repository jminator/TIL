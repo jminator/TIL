{
 "nbformat": 4,
 "nbformat_minor": 2,
 "metadata": {
  "language_info": {
   "name": "python",
   "codemirror_mode": {
    "name": "ipython",
    "version": 3
   },
   "version": "3.7.6-final"
  },
  "orig_nbformat": 2,
  "file_extension": ".py",
  "mimetype": "text/x-python",
  "name": "python",
  "npconvert_exporter": "python",
  "pygments_lexer": "ipython3",
  "version": 3,
  "kernelspec": {
   "name": "python37664bitjoosuvirtualenvdb3342cd04f04d0ab5efdd833d8abdc0",
   "display_name": "Python 3.7.6 64-bit ('joosu': virtualenv)"
  }
 },
 "cells": [
  {
   "cell_type": "code",
   "execution_count": 128,
   "metadata": {},
   "outputs": [
    {
     "data": {
      "text/plain": "1243"
     },
     "execution_count": 128,
     "metadata": {},
     "output_type": "execute_result"
    }
   ],
   "source": [
    "# find the next n-th largest permutation of x\n",
    "x = 1234\n",
    "def nxt_p1(number, n):\n",
    "    nxt_num = number\n",
    "    v = []\n",
    "    while len(v) < n:\n",
    "        for i in range(1, number):\n",
    "            nxt_num = nxt_num + 1\n",
    "            if sorted(list(str(number))) == sorted(list(str(nxt_num))):\n",
    "                v.append(nxt_num)\n",
    "    return(v[n-1]) \n",
    "nxt_p1(x, 1)\n",
    "\n"
   ]
  },
  {
   "cell_type": "code",
   "execution_count": 129,
   "metadata": {},
   "outputs": [
    {
     "data": {
      "text/plain": "654321"
     },
     "execution_count": 129,
     "metadata": {},
     "output_type": "execute_result"
    }
   ],
   "source": [
    "# find the reverse of x\n",
    "x = 123456\n",
    "def rev_num(number):\n",
    "    lst = list(str(number))\n",
    "    n_lst = len(lst)\n",
    "    temp = str()\n",
    "    for i in range(0, int(n_lst/2)):\n",
    "        temp = lst[i]\n",
    "        lst[i] = lst[n_lst-1-i]\n",
    "        lst[n_lst-1-i] = temp\n",
    "    return(int(''.join(lst)))\n",
    "rev_num(x)"
   ]
  },
  {
   "cell_type": "code",
   "execution_count": null,
   "metadata": {},
   "outputs": [],
   "source": []
  }
 ]
}
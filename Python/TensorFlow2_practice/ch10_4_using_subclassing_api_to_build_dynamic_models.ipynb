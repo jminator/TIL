{
 "nbformat": 4,
 "nbformat_minor": 2,
 "metadata": {
  "language_info": {
   "name": "python",
   "codemirror_mode": {
    "name": "ipython",
    "version": 3
   },
   "version": "3.7.6-final"
  },
  "orig_nbformat": 2,
  "file_extension": ".py",
  "mimetype": "text/x-python",
  "name": "python",
  "npconvert_exporter": "python",
  "pygments_lexer": "ipython3",
  "version": 3,
  "kernelspec": {
   "name": "python37664bitbaseconda806df43b87b141bfb712648c9cf8715a",
   "display_name": "Python 3.7.6 64-bit ('base': conda)"
  }
 },
 "cells": [
  {
   "cell_type": "markdown",
   "execution_count": null,
   "metadata": {},
   "outputs": [],
   "source": [
    "# Using subclass API for dynamic models\n",
    "* Sequential & Functional API : Declarative. Start by declaring which layers to use and how they are connected, then start feeding the model some data.\n",
    "* Declarative method's advantages: can easily save, clone, and share the model, the structure of the models can be displayed and analyzed, easy to debug.\n",
    "* However, declarative methods are static - cannot imploy loops, varying shapes, conditional branching, and other dynamic behaviors.\n",
    "* Subclassing API can be used for the dynamic behaviors."
   ]
  },
  {
   "cell_type": "code",
   "execution_count": 11,
   "metadata": {},
   "outputs": [],
   "source": [
    "# Dataset:\n",
    "from sklearn.datasets import fetch_california_housing\n",
    "from sklearn.model_selection import train_test_split\n",
    "from sklearn.preprocessing import StandardScaler\n",
    "\n",
    "housing = fetch_california_housing()\n",
    "X_train_full, X_test, y_train_full, y_test = train_test_split(\n",
    "    housing.data, housing.target\n",
    ")\n",
    "X_train, X_val, y_train, y_val = train_test_split(\n",
    "    X_train_full, y_train_full\n",
    ")\n",
    "\n",
    "scaler = StandardScaler()\n",
    "X_train = scaler.fit_transform(X_train)\n",
    "X_val = scaler.transform(X_val)\n",
    "X_test = scaler.transform(X_test)\n",
    "\n",
    "X_train_A, X_train_B = X_train[:, :5], X_train[:, 2:]\n",
    "X_val_A, X_val_B = X_val[:, :5], X_val[:, 2:]\n",
    "X_test_A, X_test_B = X_test[:, :5], X_test[:, 2:]\n",
    "X_new_A, X_new_B = X_test_A[:3], X_test_B[:3]"
   ]
  },
  {
   "cell_type": "code",
   "execution_count": 12,
   "metadata": {},
   "outputs": [
    {
     "name": "stdout",
     "output_type": "stream",
     "text": "Train on 11610 samples, validate on 3870 samples\nEpoch 1/5\n11610/11610 [==============================] - 1s 108us/sample - loss: 1.1580 - output_1_loss: 1.0327 - output_2_loss: 2.2836 - val_loss: 0.7642 - val_output_1_loss: 0.6891 - val_output_2_loss: 1.4388\nEpoch 2/5\n11610/11610 [==============================] - 1s 56us/sample - loss: 0.7993 - output_1_loss: 0.7536 - output_2_loss: 1.2106 - val_loss: 0.6221 - val_output_1_loss: 0.5702 - val_output_2_loss: 1.0877\nEpoch 3/5\n11610/11610 [==============================] - 1s 55us/sample - loss: 0.5778 - output_1_loss: 0.5315 - output_2_loss: 0.9954 - val_loss: 0.5661 - val_output_1_loss: 0.5248 - val_output_2_loss: 0.9369\nEpoch 4/5\n11610/11610 [==============================] - 1s 59us/sample - loss: 0.5400 - output_1_loss: 0.5015 - output_2_loss: 0.8857 - val_loss: 0.5502 - val_output_1_loss: 0.5167 - val_output_2_loss: 0.8498\nEpoch 5/5\n11610/11610 [==============================] - 1s 59us/sample - loss: 0.5093 - output_1_loss: 0.4764 - output_2_loss: 0.8065 - val_loss: 0.5147 - val_output_1_loss: 0.4855 - val_output_2_loss: 0.7758\n"
    }
   ],
   "source": [
    "# model using Subclass API\n",
    "from tensorflow import keras\n",
    "\n",
    "class WideAndDeepModel(keras.Model):\n",
    "    def __init__(self, units=30, activation=\"relu\", **kwargs): # create the layers\n",
    "        super().__init__(**kwargs) # handles standard args(e.g., name)\n",
    "        self.hidden1 = keras.layers.Dense(units, activation = activation)\n",
    "        self.hidden2 = keras.layers.Dense(units, activation = activation)\n",
    "        self.main_output = keras.layers.Dense(1)\n",
    "        self.aux_output = keras.layers.Dense(1)\n",
    "\n",
    "    def call(self, inputs): # use the layers to perform computations\n",
    "        # can use for-loops, if-statements, tf operations, etc in here.\n",
    "        input_A, input_B = inputs\n",
    "        hidden1 = self.hidden1(input_B)\n",
    "        hidden2 = self.hidden2(hidden1)\n",
    "        concat = keras.layers.concatenate([input_A, hidden2])\n",
    "        main_output = self.main_output(concat)\n",
    "        aux_output = self.aux_output(hidden2)\n",
    "        return main_output, aux_output\n",
    "\n",
    "model = WideAndDeepModel()\n",
    "model.compile(loss=[\"mse\", \"mse\"], loss_weights=[0.9, 0.1], optimizer = \"sgd\") # the main output gets larger weight.\n",
    "history = model.fit(\n",
    "    [X_train_A, X_train_B], [y_train, y_train], epochs=5,\n",
    "    validation_data=([X_val_A, X_val_B], [y_val, y_val]))\n",
    "\n",
    "y_pred_main, y_pred_aux = model.predict([X_new_A, X_new_B])    "
   ]
  },
  {
   "cell_type": "code",
   "execution_count": 13,
   "metadata": {},
   "outputs": [
    {
     "name": "stdout",
     "output_type": "stream",
     "text": "Train on 11610 samples, validate on 3870 samples\nEpoch 1/5\n11610/11610 [==============================] - 2s 146us/sample - loss: 1.2970 - main_output_loss: 1.1499 - aux_output_loss: 2.6167 - val_loss: 0.7074 - val_main_output_loss: 0.6436 - val_aux_output_loss: 1.2804\nEpoch 2/5\n11610/11610 [==============================] - 1s 60us/sample - loss: 0.6152 - main_output_loss: 0.5564 - aux_output_loss: 1.1447 - val_loss: 0.5771 - val_main_output_loss: 0.5209 - val_aux_output_loss: 1.0813\nEpoch 3/5\n11610/11610 [==============================] - 1s 60us/sample - loss: 0.6029 - main_output_loss: 0.5587 - aux_output_loss: 1.0015 - val_loss: 0.5360 - val_main_output_loss: 0.4901 - val_aux_output_loss: 0.9477\nEpoch 4/5\n11610/11610 [==============================] - 1s 58us/sample - loss: 0.5148 - main_output_loss: 0.4729 - aux_output_loss: 0.8918 - val_loss: 0.5215 - val_main_output_loss: 0.4839 - val_aux_output_loss: 0.8584\nEpoch 5/5\n11610/11610 [==============================] - 1s 59us/sample - loss: 0.4974 - main_output_loss: 0.4618 - aux_output_loss: 0.8178 - val_loss: 0.5111 - val_main_output_loss: 0.4790 - val_aux_output_loss: 0.7988\n"
    }
   ],
   "source": [
    "# The above is equivalent to:\n",
    "input_A = keras.layers.Input(shape=[5], name=\"wide_input\")\n",
    "input_B = keras.layers.Input(shape=[6], name=\"deep_input\")\n",
    "hidden1 = keras.layers.Dense(30, activation=\"relu\")(input_B)\n",
    "hidden2 = keras.layers.Dense(30, activation=\"relu\")(hidden1)\n",
    "concat = keras.layers.concatenate([input_A, hidden2])\n",
    "output = keras.layers.Dense(1, name=\"main_output\")(concat)\n",
    "aux_output = keras.layers.Dense(1, name=\"aux_output\")(hidden2) # for regularization\n",
    "model = keras.Model(inputs=[input_A, input_B], outputs=[output, aux_output])\n",
    "\n",
    "# Each output needs its own loss function - pass a list of loss functions.\n",
    "model.compile(loss=[\"mse\", \"mse\"], loss_weights=[0.9, 0.1], optimizer = \"sgd\") # the main output gets larger weight.\n",
    "history = model.fit(\n",
    "    [X_train_A, X_train_B], [y_train, y_train], epochs=5,\n",
    "    validation_data=([X_val_A, X_val_B], [y_val, y_val]))\n",
    "\n",
    "y_pred_main, y_pred_aux = model.predict([X_new_A, X_new_B])        "
   ]
  },
  {
   "cell_type": "code",
   "execution_count": null,
   "metadata": {},
   "outputs": [],
   "source": []
  }
 ]
}
{
 "nbformat": 4,
 "nbformat_minor": 2,
 "metadata": {
  "language_info": {
   "name": "python",
   "codemirror_mode": {
    "name": "ipython",
    "version": 3
   },
   "version": "3.7.4-final"
  },
  "orig_nbformat": 2,
  "file_extension": ".py",
  "mimetype": "text/x-python",
  "name": "python",
  "npconvert_exporter": "python",
  "pygments_lexer": "ipython3",
  "version": 3,
  "kernelspec": {
   "name": "python37464bit2ae39281a9e44a899ce84a46cd7f36a9",
   "display_name": "Python 3.7.4 64-bit"
  }
 },
 "cells": [
  {
   "cell_type": "code",
   "execution_count": 43,
   "metadata": {},
   "outputs": [
    {
     "data": {
      "text/plain": "array([[1, 2, 3],\n       [4, 5, 6]])"
     },
     "execution_count": 43,
     "metadata": {},
     "output_type": "execute_result"
    }
   ],
   "source": [
    "import tensorflow as tf\n",
    "import numpy as np\n",
    "\n",
    "t = tf.constant([[1,2,3], [4,5,6]]) # gives 2*3 matrix\n",
    "tf.constant(42) # scaler\n",
    "t.shape\n",
    "t.dtype\n",
    "t[:, 1:] # indexing is also like numpy\n",
    "t[..., 1, tf.newaxis]\n",
    "t + 10\n",
    "tf.square(t)\n",
    "t @ tf.transpose(t) # @ = matrix multiplication\n",
    "tf.reduce_mean(t) # equivalent to np.mean()\n",
    "tf.reduce_max(t) # equivalent to np.max()\n",
    "\n",
    "a = np.array([2, 4, 5])\n",
    "tf.constant(a)\n",
    "t.numpy()"
   ]
  },
  {
   "cell_type": "code",
   "execution_count": 50,
   "metadata": {},
   "outputs": [
    {
     "data": {
      "text/plain": "<tf.Variable 'UnreadVariable' shape=(2, 3) dtype=int32, numpy=\narray([[100,  42,   0],\n       [  8,  10, 200]])>"
     },
     "execution_count": 50,
     "metadata": {},
     "output_type": "execute_result"
    }
   ],
   "source": [
    "# tf.constant is immutable. Instead, we can use tf.Variable\n",
    "v = tf.Variable([[1,2,3], [4,5,6]])\n",
    "v\n",
    "v.assign(2 * v)\n",
    "v # v is now modified\n",
    "v[0, 1].assign(42)\n",
    "v[:, 2].assign([0, 1])\n",
    "v.scatter_nd_update(indices = [[0,0], [1,2]], updates=[100, 200])"
   ]
  }
 ]
}
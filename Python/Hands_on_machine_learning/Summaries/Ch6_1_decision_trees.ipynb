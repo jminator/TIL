{
 "nbformat": 4,
 "nbformat_minor": 2,
 "metadata": {
  "language_info": {
   "name": "python",
   "codemirror_mode": {
    "name": "ipython",
    "version": 3
   },
   "version": "3.7.4-final"
  },
  "orig_nbformat": 2,
  "file_extension": ".py",
  "mimetype": "text/x-python",
  "name": "python",
  "npconvert_exporter": "python",
  "pygments_lexer": "ipython3",
  "version": 3,
  "kernelspec": {
   "name": "python37464bit2ae39281a9e44a899ce84a46cd7f36a9",
   "display_name": "Python 3.7.4 64-bit"
  }
 },
 "cells": [
  {
   "cell_type": "markdown",
   "execution_count": null,
   "metadata": {},
   "outputs": [],
   "source": [
    "# Decision trees\n",
    "* A fundamental component of random forest.\n",
    "* Can perform classification, regression, and multioutput tasks.\n",
    "* Require very little data preparation. Don't require feature scaling or centering."
   ]
  },
  {
   "cell_type": "code",
   "execution_count": 15,
   "metadata": {},
   "outputs": [
    {
     "data": {
      "text/plain": "DecisionTreeClassifier(ccp_alpha=0.0, class_weight=None, criterion='gini',\n                       max_depth=2, max_features=None, max_leaf_nodes=None,\n                       min_impurity_decrease=0.0, min_impurity_split=None,\n                       min_samples_leaf=1, min_samples_split=2,\n                       min_weight_fraction_leaf=0.0, presort='deprecated',\n                       random_state=None, splitter='best')"
     },
     "execution_count": 15,
     "metadata": {},
     "output_type": "execute_result"
    }
   ],
   "source": [
    "# Training and visualizing a decisino tree\n",
    "from sklearn.datasets import load_iris\n",
    "from sklearn.tree import DecisionTreeClassifier\n",
    "\n",
    "iris = load_iris()\n",
    "X = iris.data[:, 2:] # petal length and width\n",
    "y = iris.target\n",
    "\n",
    "tree_clf = DecisionTreeClassifier(max_depth= 2)\n",
    "tree_clf.fit(X, y)"
   ]
  },
  {
   "cell_type": "code",
   "execution_count": 16,
   "metadata": {},
   "outputs": [],
   "source": [
    "from sklearn.tree import export_graphviz\n",
    "export_graphviz(tree_clf, out_file=\"iris_tree.dot\",\n",
    "                feature_names = iris.feature_names[2:],\n",
    "                class_names = iris.target_names,\n",
    "                rounded = True,\n",
    "                filled = True\n",
    "                )"
   ]
  },
  {
   "cell_type": "code",
   "execution_count": null,
   "metadata": {},
   "outputs": [],
   "source": [
    "## Estimating class probabilities\n",
    "print(tree_clf.predict_proba([[5, 1.5]]))\n",
    "tree_clf.predict(([[5, 1.5]]))"
   ]
  },
  {
   "cell_type": "markdown",
   "execution_count": null,
   "metadata": {},
   "outputs": [],
   "source": [
    "### The CART training algorithm\n",
    "* Classification And Regression Tree\n",
    "* Works by first splitting the training set into two subsets using a single feature k and a threshold t_k  \n",
    "(eg. 'petal lenth =< 2.45 cm')\n",
    "* It searches for the pair (k, t_k) that produces the purest subsets.\n",
    "* Stops recursing once it reaches the maximum depth (defined by max_depth hyperparameter) or if it cannot  \n",
    "find a split that will reduce impurity.\n",
    "* See pg 179 for the cost function.\n",
    "\n",
    "### Gini impurity or Entropy?\n",
    "* The scikit-learn tool uses gini impurity by default.\n",
    "* Can change it by putting criterion = \"entropy\".\n",
    "* Gini impurity tends to isolate the most frequent class in its own brance of the tree, whereas entropy  \n",
    "tends to produce slightly more balanced trees\n",
    "\n",
    "### Regularization hyperparameter\n",
    "* Decision trees are nonparametric(the number of parameters are not determined prior to training), so the  \n",
    "model structure is free to fit very closely to the data.\n",
    "* There are number of ways to reduce overfitting:  \n",
    "    1) limit the number of max_depth  \n",
    "    2) Pruning: delete unnecessary nodes. This is done by testing if the purity improvement the nodes provide  \n",
    "    is statistically significant. (can perform chi-square test for this)\n"
   ]
  },
  {
   "cell_type": "code",
   "execution_count": 22,
   "metadata": {},
   "outputs": [],
   "source": [
    "## Regression\n",
    "from sklearn.tree import DecisionTreeRegressor\n",
    "tree_reg = DecisionTreeRegressor(max_depth= 3)\n",
    "tree_reg.fit(X, y)\n",
    "export_graphviz(tree_reg, out_file=\"iris_reg_tree.dot\",\n",
    "                rounded = True,\n",
    "                filled = True\n",
    "                )"
   ]
  },
  {
   "cell_type": "markdown",
   "execution_count": null,
   "metadata": {},
   "outputs": [],
   "source": []
  }
 ]
}